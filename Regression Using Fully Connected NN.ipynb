{
 "cells": [
  {
   "cell_type": "markdown",
   "id": "8a0f708f",
   "metadata": {},
   "source": [
    "## Building a fully connected sequential model for automobile price prediction"
   ]
  },
  {
   "cell_type": "code",
   "execution_count": 1,
   "id": "f84f0aa7",
   "metadata": {},
   "outputs": [],
   "source": [
    "import pandas as pd"
   ]
  },
  {
   "cell_type": "code",
   "execution_count": 2,
   "id": "6efba2d1",
   "metadata": {},
   "outputs": [
    {
     "data": {
      "text/html": [
       "<div>\n",
       "<style scoped>\n",
       "    .dataframe tbody tr th:only-of-type {\n",
       "        vertical-align: middle;\n",
       "    }\n",
       "\n",
       "    .dataframe tbody tr th {\n",
       "        vertical-align: top;\n",
       "    }\n",
       "\n",
       "    .dataframe thead th {\n",
       "        text-align: right;\n",
       "    }\n",
       "</style>\n",
       "<table border=\"1\" class=\"dataframe\">\n",
       "  <thead>\n",
       "    <tr style=\"text-align: right;\">\n",
       "      <th></th>\n",
       "      <th>symboling</th>\n",
       "      <th>normalized-losses</th>\n",
       "      <th>make</th>\n",
       "      <th>fuel-type</th>\n",
       "      <th>aspiration</th>\n",
       "      <th>num-of-doors</th>\n",
       "      <th>body-style</th>\n",
       "      <th>drive-wheels</th>\n",
       "      <th>engine-location</th>\n",
       "      <th>wheel-base</th>\n",
       "      <th>...</th>\n",
       "      <th>engine-size</th>\n",
       "      <th>fuel-system</th>\n",
       "      <th>bore</th>\n",
       "      <th>stroke</th>\n",
       "      <th>compression-ratio</th>\n",
       "      <th>horsepower</th>\n",
       "      <th>peak-rpm</th>\n",
       "      <th>city-mpg</th>\n",
       "      <th>highway-mpg</th>\n",
       "      <th>price</th>\n",
       "    </tr>\n",
       "  </thead>\n",
       "  <tbody>\n",
       "    <tr>\n",
       "      <th>0</th>\n",
       "      <td>3</td>\n",
       "      <td>NaN</td>\n",
       "      <td>alfa-romero</td>\n",
       "      <td>gas</td>\n",
       "      <td>std</td>\n",
       "      <td>two</td>\n",
       "      <td>convertible</td>\n",
       "      <td>rwd</td>\n",
       "      <td>front</td>\n",
       "      <td>88.6</td>\n",
       "      <td>...</td>\n",
       "      <td>130</td>\n",
       "      <td>mpfi</td>\n",
       "      <td>3.47</td>\n",
       "      <td>2.68</td>\n",
       "      <td>9.0</td>\n",
       "      <td>111.0</td>\n",
       "      <td>5000.0</td>\n",
       "      <td>21</td>\n",
       "      <td>27</td>\n",
       "      <td>13495.0</td>\n",
       "    </tr>\n",
       "    <tr>\n",
       "      <th>1</th>\n",
       "      <td>3</td>\n",
       "      <td>NaN</td>\n",
       "      <td>alfa-romero</td>\n",
       "      <td>gas</td>\n",
       "      <td>std</td>\n",
       "      <td>two</td>\n",
       "      <td>convertible</td>\n",
       "      <td>rwd</td>\n",
       "      <td>front</td>\n",
       "      <td>88.6</td>\n",
       "      <td>...</td>\n",
       "      <td>130</td>\n",
       "      <td>mpfi</td>\n",
       "      <td>3.47</td>\n",
       "      <td>2.68</td>\n",
       "      <td>9.0</td>\n",
       "      <td>111.0</td>\n",
       "      <td>5000.0</td>\n",
       "      <td>21</td>\n",
       "      <td>27</td>\n",
       "      <td>16500.0</td>\n",
       "    </tr>\n",
       "    <tr>\n",
       "      <th>2</th>\n",
       "      <td>1</td>\n",
       "      <td>NaN</td>\n",
       "      <td>alfa-romero</td>\n",
       "      <td>gas</td>\n",
       "      <td>std</td>\n",
       "      <td>two</td>\n",
       "      <td>hatchback</td>\n",
       "      <td>rwd</td>\n",
       "      <td>front</td>\n",
       "      <td>94.5</td>\n",
       "      <td>...</td>\n",
       "      <td>152</td>\n",
       "      <td>mpfi</td>\n",
       "      <td>2.68</td>\n",
       "      <td>3.47</td>\n",
       "      <td>9.0</td>\n",
       "      <td>154.0</td>\n",
       "      <td>5000.0</td>\n",
       "      <td>19</td>\n",
       "      <td>26</td>\n",
       "      <td>16500.0</td>\n",
       "    </tr>\n",
       "    <tr>\n",
       "      <th>3</th>\n",
       "      <td>2</td>\n",
       "      <td>164.0</td>\n",
       "      <td>audi</td>\n",
       "      <td>gas</td>\n",
       "      <td>std</td>\n",
       "      <td>four</td>\n",
       "      <td>sedan</td>\n",
       "      <td>fwd</td>\n",
       "      <td>front</td>\n",
       "      <td>99.8</td>\n",
       "      <td>...</td>\n",
       "      <td>109</td>\n",
       "      <td>mpfi</td>\n",
       "      <td>3.19</td>\n",
       "      <td>3.40</td>\n",
       "      <td>10.0</td>\n",
       "      <td>102.0</td>\n",
       "      <td>5500.0</td>\n",
       "      <td>24</td>\n",
       "      <td>30</td>\n",
       "      <td>13950.0</td>\n",
       "    </tr>\n",
       "    <tr>\n",
       "      <th>4</th>\n",
       "      <td>2</td>\n",
       "      <td>164.0</td>\n",
       "      <td>audi</td>\n",
       "      <td>gas</td>\n",
       "      <td>std</td>\n",
       "      <td>four</td>\n",
       "      <td>sedan</td>\n",
       "      <td>4wd</td>\n",
       "      <td>front</td>\n",
       "      <td>99.4</td>\n",
       "      <td>...</td>\n",
       "      <td>136</td>\n",
       "      <td>mpfi</td>\n",
       "      <td>3.19</td>\n",
       "      <td>3.40</td>\n",
       "      <td>8.0</td>\n",
       "      <td>115.0</td>\n",
       "      <td>5500.0</td>\n",
       "      <td>18</td>\n",
       "      <td>22</td>\n",
       "      <td>17450.0</td>\n",
       "    </tr>\n",
       "  </tbody>\n",
       "</table>\n",
       "<p>5 rows × 26 columns</p>\n",
       "</div>"
      ],
      "text/plain": [
       "   symboling  normalized-losses         make fuel-type aspiration  \\\n",
       "0          3                NaN  alfa-romero       gas        std   \n",
       "1          3                NaN  alfa-romero       gas        std   \n",
       "2          1                NaN  alfa-romero       gas        std   \n",
       "3          2              164.0         audi       gas        std   \n",
       "4          2              164.0         audi       gas        std   \n",
       "\n",
       "  num-of-doors   body-style drive-wheels engine-location  wheel-base  ...  \\\n",
       "0          two  convertible          rwd           front        88.6  ...   \n",
       "1          two  convertible          rwd           front        88.6  ...   \n",
       "2          two    hatchback          rwd           front        94.5  ...   \n",
       "3         four        sedan          fwd           front        99.8  ...   \n",
       "4         four        sedan          4wd           front        99.4  ...   \n",
       "\n",
       "   engine-size  fuel-system  bore  stroke compression-ratio horsepower  \\\n",
       "0          130         mpfi  3.47    2.68               9.0      111.0   \n",
       "1          130         mpfi  3.47    2.68               9.0      111.0   \n",
       "2          152         mpfi  2.68    3.47               9.0      154.0   \n",
       "3          109         mpfi  3.19    3.40              10.0      102.0   \n",
       "4          136         mpfi  3.19    3.40               8.0      115.0   \n",
       "\n",
       "   peak-rpm city-mpg  highway-mpg    price  \n",
       "0    5000.0       21           27  13495.0  \n",
       "1    5000.0       21           27  16500.0  \n",
       "2    5000.0       19           26  16500.0  \n",
       "3    5500.0       24           30  13950.0  \n",
       "4    5500.0       18           22  17450.0  \n",
       "\n",
       "[5 rows x 26 columns]"
      ]
     },
     "execution_count": 2,
     "metadata": {},
     "output_type": "execute_result"
    }
   ],
   "source": [
    "automobile_data = pd.read_csv(\"datasets/imports-85.csv\", header=None, names=[\"symboling\",\"normalized-losses\",\"make\",\"fuel-type\",\n",
    "        \"aspiration\", \"num-of-doors\",\"body-style\", \"drive-wheels\",\"engine-location\",\"wheel-base\", \"length\",\"width\",\n",
    "        \"height\",\"curb-weight\",\"engine-type\", \"num-of-cylinders\", \"engine-size\",\"fuel-system\",\"bore\",\"stroke\",\n",
    "        \"compression-ratio\",\"horsepower\", \"peak-rpm\",\"city-mpg\",\"highway-mpg\",\"price\"],na_values='?')\n",
    "#Replaced ? with NaN\n",
    "automobile_data.head()"
   ]
  },
  {
   "cell_type": "code",
   "execution_count": 3,
   "id": "d0cac12f",
   "metadata": {},
   "outputs": [],
   "source": [
    "#drop NAN values\n",
    "automobile_data = automobile_data.dropna()"
   ]
  },
  {
   "cell_type": "code",
   "execution_count": 4,
   "id": "7cc38407",
   "metadata": {},
   "outputs": [
    {
     "data": {
      "text/html": [
       "<div>\n",
       "<style scoped>\n",
       "    .dataframe tbody tr th:only-of-type {\n",
       "        vertical-align: middle;\n",
       "    }\n",
       "\n",
       "    .dataframe tbody tr th {\n",
       "        vertical-align: top;\n",
       "    }\n",
       "\n",
       "    .dataframe thead th {\n",
       "        text-align: right;\n",
       "    }\n",
       "</style>\n",
       "<table border=\"1\" class=\"dataframe\">\n",
       "  <thead>\n",
       "    <tr style=\"text-align: right;\">\n",
       "      <th></th>\n",
       "      <th>symboling</th>\n",
       "      <th>normalized-losses</th>\n",
       "      <th>make</th>\n",
       "      <th>fuel-type</th>\n",
       "      <th>aspiration</th>\n",
       "      <th>num-of-doors</th>\n",
       "      <th>body-style</th>\n",
       "      <th>drive-wheels</th>\n",
       "      <th>engine-location</th>\n",
       "      <th>wheel-base</th>\n",
       "      <th>...</th>\n",
       "      <th>engine-size</th>\n",
       "      <th>fuel-system</th>\n",
       "      <th>bore</th>\n",
       "      <th>stroke</th>\n",
       "      <th>compression-ratio</th>\n",
       "      <th>horsepower</th>\n",
       "      <th>peak-rpm</th>\n",
       "      <th>city-mpg</th>\n",
       "      <th>highway-mpg</th>\n",
       "      <th>price</th>\n",
       "    </tr>\n",
       "  </thead>\n",
       "  <tbody>\n",
       "    <tr>\n",
       "      <th>3</th>\n",
       "      <td>2</td>\n",
       "      <td>164.0</td>\n",
       "      <td>audi</td>\n",
       "      <td>gas</td>\n",
       "      <td>std</td>\n",
       "      <td>four</td>\n",
       "      <td>sedan</td>\n",
       "      <td>fwd</td>\n",
       "      <td>front</td>\n",
       "      <td>99.8</td>\n",
       "      <td>...</td>\n",
       "      <td>109</td>\n",
       "      <td>mpfi</td>\n",
       "      <td>3.19</td>\n",
       "      <td>3.4</td>\n",
       "      <td>10.0</td>\n",
       "      <td>102.0</td>\n",
       "      <td>5500.0</td>\n",
       "      <td>24</td>\n",
       "      <td>30</td>\n",
       "      <td>13950.0</td>\n",
       "    </tr>\n",
       "    <tr>\n",
       "      <th>4</th>\n",
       "      <td>2</td>\n",
       "      <td>164.0</td>\n",
       "      <td>audi</td>\n",
       "      <td>gas</td>\n",
       "      <td>std</td>\n",
       "      <td>four</td>\n",
       "      <td>sedan</td>\n",
       "      <td>4wd</td>\n",
       "      <td>front</td>\n",
       "      <td>99.4</td>\n",
       "      <td>...</td>\n",
       "      <td>136</td>\n",
       "      <td>mpfi</td>\n",
       "      <td>3.19</td>\n",
       "      <td>3.4</td>\n",
       "      <td>8.0</td>\n",
       "      <td>115.0</td>\n",
       "      <td>5500.0</td>\n",
       "      <td>18</td>\n",
       "      <td>22</td>\n",
       "      <td>17450.0</td>\n",
       "    </tr>\n",
       "    <tr>\n",
       "      <th>6</th>\n",
       "      <td>1</td>\n",
       "      <td>158.0</td>\n",
       "      <td>audi</td>\n",
       "      <td>gas</td>\n",
       "      <td>std</td>\n",
       "      <td>four</td>\n",
       "      <td>sedan</td>\n",
       "      <td>fwd</td>\n",
       "      <td>front</td>\n",
       "      <td>105.8</td>\n",
       "      <td>...</td>\n",
       "      <td>136</td>\n",
       "      <td>mpfi</td>\n",
       "      <td>3.19</td>\n",
       "      <td>3.4</td>\n",
       "      <td>8.5</td>\n",
       "      <td>110.0</td>\n",
       "      <td>5500.0</td>\n",
       "      <td>19</td>\n",
       "      <td>25</td>\n",
       "      <td>17710.0</td>\n",
       "    </tr>\n",
       "    <tr>\n",
       "      <th>8</th>\n",
       "      <td>1</td>\n",
       "      <td>158.0</td>\n",
       "      <td>audi</td>\n",
       "      <td>gas</td>\n",
       "      <td>turbo</td>\n",
       "      <td>four</td>\n",
       "      <td>sedan</td>\n",
       "      <td>fwd</td>\n",
       "      <td>front</td>\n",
       "      <td>105.8</td>\n",
       "      <td>...</td>\n",
       "      <td>131</td>\n",
       "      <td>mpfi</td>\n",
       "      <td>3.13</td>\n",
       "      <td>3.4</td>\n",
       "      <td>8.3</td>\n",
       "      <td>140.0</td>\n",
       "      <td>5500.0</td>\n",
       "      <td>17</td>\n",
       "      <td>20</td>\n",
       "      <td>23875.0</td>\n",
       "    </tr>\n",
       "    <tr>\n",
       "      <th>10</th>\n",
       "      <td>2</td>\n",
       "      <td>192.0</td>\n",
       "      <td>bmw</td>\n",
       "      <td>gas</td>\n",
       "      <td>std</td>\n",
       "      <td>two</td>\n",
       "      <td>sedan</td>\n",
       "      <td>rwd</td>\n",
       "      <td>front</td>\n",
       "      <td>101.2</td>\n",
       "      <td>...</td>\n",
       "      <td>108</td>\n",
       "      <td>mpfi</td>\n",
       "      <td>3.50</td>\n",
       "      <td>2.8</td>\n",
       "      <td>8.8</td>\n",
       "      <td>101.0</td>\n",
       "      <td>5800.0</td>\n",
       "      <td>23</td>\n",
       "      <td>29</td>\n",
       "      <td>16430.0</td>\n",
       "    </tr>\n",
       "  </tbody>\n",
       "</table>\n",
       "<p>5 rows × 26 columns</p>\n",
       "</div>"
      ],
      "text/plain": [
       "    symboling  normalized-losses  make fuel-type aspiration num-of-doors  \\\n",
       "3           2              164.0  audi       gas        std         four   \n",
       "4           2              164.0  audi       gas        std         four   \n",
       "6           1              158.0  audi       gas        std         four   \n",
       "8           1              158.0  audi       gas      turbo         four   \n",
       "10          2              192.0   bmw       gas        std          two   \n",
       "\n",
       "   body-style drive-wheels engine-location  wheel-base  ...  engine-size  \\\n",
       "3       sedan          fwd           front        99.8  ...          109   \n",
       "4       sedan          4wd           front        99.4  ...          136   \n",
       "6       sedan          fwd           front       105.8  ...          136   \n",
       "8       sedan          fwd           front       105.8  ...          131   \n",
       "10      sedan          rwd           front       101.2  ...          108   \n",
       "\n",
       "    fuel-system  bore  stroke compression-ratio horsepower  peak-rpm city-mpg  \\\n",
       "3          mpfi  3.19     3.4              10.0      102.0    5500.0       24   \n",
       "4          mpfi  3.19     3.4               8.0      115.0    5500.0       18   \n",
       "6          mpfi  3.19     3.4               8.5      110.0    5500.0       19   \n",
       "8          mpfi  3.13     3.4               8.3      140.0    5500.0       17   \n",
       "10         mpfi  3.50     2.8               8.8      101.0    5800.0       23   \n",
       "\n",
       "    highway-mpg    price  \n",
       "3            30  13950.0  \n",
       "4            22  17450.0  \n",
       "6            25  17710.0  \n",
       "8            20  23875.0  \n",
       "10           29  16430.0  \n",
       "\n",
       "[5 rows x 26 columns]"
      ]
     },
     "execution_count": 4,
     "metadata": {},
     "output_type": "execute_result"
    }
   ],
   "source": [
    "automobile_data.head()"
   ]
  },
  {
   "cell_type": "code",
   "execution_count": 5,
   "id": "24acaad5",
   "metadata": {},
   "outputs": [],
   "source": [
    "automobile_features = automobile_data[['make', 'fuel-type', 'body-style', 'horsepower']]"
   ]
  },
  {
   "cell_type": "code",
   "execution_count": 6,
   "id": "1ae65c28",
   "metadata": {},
   "outputs": [],
   "source": [
    "automobile_target = automobile_data[['price']]"
   ]
  },
  {
   "cell_type": "code",
   "execution_count": 7,
   "id": "fad8e705",
   "metadata": {},
   "outputs": [
    {
     "data": {
      "text/plain": [
       "count    159.000000\n",
       "mean      95.836478\n",
       "std       30.718583\n",
       "min       48.000000\n",
       "25%       69.000000\n",
       "50%       88.000000\n",
       "75%      114.000000\n",
       "max      200.000000\n",
       "Name: horsepower, dtype: float64"
      ]
     },
     "execution_count": 7,
     "metadata": {},
     "output_type": "execute_result"
    }
   ],
   "source": [
    "automobile_features['horsepower'].describe()"
   ]
  },
  {
   "cell_type": "code",
   "execution_count": 8,
   "id": "e5eb9730",
   "metadata": {},
   "outputs": [
    {
     "data": {
      "text/plain": [
       "count      159.000000\n",
       "mean     11445.729560\n",
       "std       5877.856195\n",
       "min       5118.000000\n",
       "25%       7372.000000\n",
       "50%       9233.000000\n",
       "75%      14719.500000\n",
       "max      35056.000000\n",
       "Name: price, dtype: float64"
      ]
     },
     "execution_count": 8,
     "metadata": {},
     "output_type": "execute_result"
    }
   ],
   "source": [
    "automobile_target['price'].describe()"
   ]
  },
  {
   "cell_type": "markdown",
   "id": "7de98fea",
   "metadata": {},
   "source": [
    "Our input x features contains values for other columns such as make, fuel-type and body-style. All three of these columns contain values that are categorical in nature. They belong to discrete categories.\n",
    "\n",
    "The inputs that we pass into neural networks and the outputs from neural networks can only be numeric. That means we need to convert these categorical values into numeric form. For this we will use one-hot encoding."
   ]
  },
  {
   "cell_type": "code",
   "execution_count": 9,
   "id": "dcefc747",
   "metadata": {},
   "outputs": [],
   "source": [
    "automobile_features = pd.get_dummies(automobile_features,\n",
    "                                    columns=['make', 'fuel-type', 'body-style']) #peforms one-hot encoding"
   ]
  },
  {
   "cell_type": "code",
   "execution_count": 10,
   "id": "28042ff1",
   "metadata": {},
   "outputs": [
    {
     "data": {
      "text/html": [
       "<div>\n",
       "<style scoped>\n",
       "    .dataframe tbody tr th:only-of-type {\n",
       "        vertical-align: middle;\n",
       "    }\n",
       "\n",
       "    .dataframe tbody tr th {\n",
       "        vertical-align: top;\n",
       "    }\n",
       "\n",
       "    .dataframe thead th {\n",
       "        text-align: right;\n",
       "    }\n",
       "</style>\n",
       "<table border=\"1\" class=\"dataframe\">\n",
       "  <thead>\n",
       "    <tr style=\"text-align: right;\">\n",
       "      <th></th>\n",
       "      <th>horsepower</th>\n",
       "      <th>make_audi</th>\n",
       "      <th>make_bmw</th>\n",
       "      <th>make_chevrolet</th>\n",
       "      <th>make_dodge</th>\n",
       "      <th>make_honda</th>\n",
       "      <th>make_jaguar</th>\n",
       "      <th>make_mazda</th>\n",
       "      <th>make_mercedes-benz</th>\n",
       "      <th>make_mitsubishi</th>\n",
       "      <th>...</th>\n",
       "      <th>make_toyota</th>\n",
       "      <th>make_volkswagen</th>\n",
       "      <th>make_volvo</th>\n",
       "      <th>fuel-type_diesel</th>\n",
       "      <th>fuel-type_gas</th>\n",
       "      <th>body-style_convertible</th>\n",
       "      <th>body-style_hardtop</th>\n",
       "      <th>body-style_hatchback</th>\n",
       "      <th>body-style_sedan</th>\n",
       "      <th>body-style_wagon</th>\n",
       "    </tr>\n",
       "  </thead>\n",
       "  <tbody>\n",
       "    <tr>\n",
       "      <th>3</th>\n",
       "      <td>102.0</td>\n",
       "      <td>1</td>\n",
       "      <td>0</td>\n",
       "      <td>0</td>\n",
       "      <td>0</td>\n",
       "      <td>0</td>\n",
       "      <td>0</td>\n",
       "      <td>0</td>\n",
       "      <td>0</td>\n",
       "      <td>0</td>\n",
       "      <td>...</td>\n",
       "      <td>0</td>\n",
       "      <td>0</td>\n",
       "      <td>0</td>\n",
       "      <td>0</td>\n",
       "      <td>1</td>\n",
       "      <td>0</td>\n",
       "      <td>0</td>\n",
       "      <td>0</td>\n",
       "      <td>1</td>\n",
       "      <td>0</td>\n",
       "    </tr>\n",
       "    <tr>\n",
       "      <th>4</th>\n",
       "      <td>115.0</td>\n",
       "      <td>1</td>\n",
       "      <td>0</td>\n",
       "      <td>0</td>\n",
       "      <td>0</td>\n",
       "      <td>0</td>\n",
       "      <td>0</td>\n",
       "      <td>0</td>\n",
       "      <td>0</td>\n",
       "      <td>0</td>\n",
       "      <td>...</td>\n",
       "      <td>0</td>\n",
       "      <td>0</td>\n",
       "      <td>0</td>\n",
       "      <td>0</td>\n",
       "      <td>1</td>\n",
       "      <td>0</td>\n",
       "      <td>0</td>\n",
       "      <td>0</td>\n",
       "      <td>1</td>\n",
       "      <td>0</td>\n",
       "    </tr>\n",
       "    <tr>\n",
       "      <th>6</th>\n",
       "      <td>110.0</td>\n",
       "      <td>1</td>\n",
       "      <td>0</td>\n",
       "      <td>0</td>\n",
       "      <td>0</td>\n",
       "      <td>0</td>\n",
       "      <td>0</td>\n",
       "      <td>0</td>\n",
       "      <td>0</td>\n",
       "      <td>0</td>\n",
       "      <td>...</td>\n",
       "      <td>0</td>\n",
       "      <td>0</td>\n",
       "      <td>0</td>\n",
       "      <td>0</td>\n",
       "      <td>1</td>\n",
       "      <td>0</td>\n",
       "      <td>0</td>\n",
       "      <td>0</td>\n",
       "      <td>1</td>\n",
       "      <td>0</td>\n",
       "    </tr>\n",
       "    <tr>\n",
       "      <th>8</th>\n",
       "      <td>140.0</td>\n",
       "      <td>1</td>\n",
       "      <td>0</td>\n",
       "      <td>0</td>\n",
       "      <td>0</td>\n",
       "      <td>0</td>\n",
       "      <td>0</td>\n",
       "      <td>0</td>\n",
       "      <td>0</td>\n",
       "      <td>0</td>\n",
       "      <td>...</td>\n",
       "      <td>0</td>\n",
       "      <td>0</td>\n",
       "      <td>0</td>\n",
       "      <td>0</td>\n",
       "      <td>1</td>\n",
       "      <td>0</td>\n",
       "      <td>0</td>\n",
       "      <td>0</td>\n",
       "      <td>1</td>\n",
       "      <td>0</td>\n",
       "    </tr>\n",
       "    <tr>\n",
       "      <th>10</th>\n",
       "      <td>101.0</td>\n",
       "      <td>0</td>\n",
       "      <td>1</td>\n",
       "      <td>0</td>\n",
       "      <td>0</td>\n",
       "      <td>0</td>\n",
       "      <td>0</td>\n",
       "      <td>0</td>\n",
       "      <td>0</td>\n",
       "      <td>0</td>\n",
       "      <td>...</td>\n",
       "      <td>0</td>\n",
       "      <td>0</td>\n",
       "      <td>0</td>\n",
       "      <td>0</td>\n",
       "      <td>1</td>\n",
       "      <td>0</td>\n",
       "      <td>0</td>\n",
       "      <td>0</td>\n",
       "      <td>1</td>\n",
       "      <td>0</td>\n",
       "    </tr>\n",
       "  </tbody>\n",
       "</table>\n",
       "<p>5 rows × 26 columns</p>\n",
       "</div>"
      ],
      "text/plain": [
       "    horsepower  make_audi  make_bmw  make_chevrolet  make_dodge  make_honda  \\\n",
       "3        102.0          1         0               0           0           0   \n",
       "4        115.0          1         0               0           0           0   \n",
       "6        110.0          1         0               0           0           0   \n",
       "8        140.0          1         0               0           0           0   \n",
       "10       101.0          0         1               0           0           0   \n",
       "\n",
       "    make_jaguar  make_mazda  make_mercedes-benz  make_mitsubishi  ...  \\\n",
       "3             0           0                   0                0  ...   \n",
       "4             0           0                   0                0  ...   \n",
       "6             0           0                   0                0  ...   \n",
       "8             0           0                   0                0  ...   \n",
       "10            0           0                   0                0  ...   \n",
       "\n",
       "    make_toyota  make_volkswagen  make_volvo  fuel-type_diesel  fuel-type_gas  \\\n",
       "3             0                0           0                 0              1   \n",
       "4             0                0           0                 0              1   \n",
       "6             0                0           0                 0              1   \n",
       "8             0                0           0                 0              1   \n",
       "10            0                0           0                 0              1   \n",
       "\n",
       "    body-style_convertible  body-style_hardtop  body-style_hatchback  \\\n",
       "3                        0                   0                     0   \n",
       "4                        0                   0                     0   \n",
       "6                        0                   0                     0   \n",
       "8                        0                   0                     0   \n",
       "10                       0                   0                     0   \n",
       "\n",
       "    body-style_sedan  body-style_wagon  \n",
       "3                  1                 0  \n",
       "4                  1                 0  \n",
       "6                  1                 0  \n",
       "8                  1                 0  \n",
       "10                 1                 0  \n",
       "\n",
       "[5 rows x 26 columns]"
      ]
     },
     "execution_count": 10,
     "metadata": {},
     "output_type": "execute_result"
    }
   ],
   "source": [
    "automobile_features.head()"
   ]
  },
  {
   "cell_type": "code",
   "execution_count": 11,
   "id": "2427618a",
   "metadata": {},
   "outputs": [
    {
     "data": {
      "text/plain": [
       "Index(['horsepower', 'make_audi', 'make_bmw', 'make_chevrolet', 'make_dodge',\n",
       "       'make_honda', 'make_jaguar', 'make_mazda', 'make_mercedes-benz',\n",
       "       'make_mitsubishi', 'make_nissan', 'make_peugot', 'make_plymouth',\n",
       "       'make_porsche', 'make_saab', 'make_subaru', 'make_toyota',\n",
       "       'make_volkswagen', 'make_volvo', 'fuel-type_diesel', 'fuel-type_gas',\n",
       "       'body-style_convertible', 'body-style_hardtop', 'body-style_hatchback',\n",
       "       'body-style_sedan', 'body-style_wagon'],\n",
       "      dtype='object')"
      ]
     },
     "execution_count": 11,
     "metadata": {},
     "output_type": "execute_result"
    }
   ],
   "source": [
    "automobile_features.columns #number of columns has expanded"
   ]
  },
  {
   "cell_type": "code",
   "execution_count": 12,
   "id": "5564931d",
   "metadata": {},
   "outputs": [],
   "source": [
    "from sklearn import preprocessing"
   ]
  },
  {
   "cell_type": "code",
   "execution_count": 13,
   "id": "fbf08bfe",
   "metadata": {},
   "outputs": [],
   "source": [
    "# Standardise numeric values for a more stable ML model and better performance\n",
    "\n",
    "automobile_features[['horsepower']] = preprocessing.scale(automobile_features[['horsepower']])\n",
    "\n",
    "#Subtracting the mean; Dividing by standard deviation"
   ]
  },
  {
   "cell_type": "code",
   "execution_count": 14,
   "id": "9d876f1c",
   "metadata": {},
   "outputs": [
    {
     "data": {
      "text/html": [
       "<div>\n",
       "<style scoped>\n",
       "    .dataframe tbody tr th:only-of-type {\n",
       "        vertical-align: middle;\n",
       "    }\n",
       "\n",
       "    .dataframe tbody tr th {\n",
       "        vertical-align: top;\n",
       "    }\n",
       "\n",
       "    .dataframe thead th {\n",
       "        text-align: right;\n",
       "    }\n",
       "</style>\n",
       "<table border=\"1\" class=\"dataframe\">\n",
       "  <thead>\n",
       "    <tr style=\"text-align: right;\">\n",
       "      <th></th>\n",
       "      <th>horsepower</th>\n",
       "    </tr>\n",
       "  </thead>\n",
       "  <tbody>\n",
       "    <tr>\n",
       "      <th>3</th>\n",
       "      <td>0.201279</td>\n",
       "    </tr>\n",
       "    <tr>\n",
       "      <th>4</th>\n",
       "      <td>0.625812</td>\n",
       "    </tr>\n",
       "    <tr>\n",
       "      <th>6</th>\n",
       "      <td>0.462530</td>\n",
       "    </tr>\n",
       "    <tr>\n",
       "      <th>8</th>\n",
       "      <td>1.442223</td>\n",
       "    </tr>\n",
       "    <tr>\n",
       "      <th>10</th>\n",
       "      <td>0.168622</td>\n",
       "    </tr>\n",
       "  </tbody>\n",
       "</table>\n",
       "</div>"
      ],
      "text/plain": [
       "    horsepower\n",
       "3     0.201279\n",
       "4     0.625812\n",
       "6     0.462530\n",
       "8     1.442223\n",
       "10    0.168622"
      ]
     },
     "execution_count": 14,
     "metadata": {},
     "output_type": "execute_result"
    }
   ],
   "source": [
    "automobile_features[['horsepower']].head()"
   ]
  },
  {
   "cell_type": "code",
   "execution_count": 15,
   "id": "80059a54",
   "metadata": {},
   "outputs": [],
   "source": [
    "from sklearn.model_selection import train_test_split"
   ]
  },
  {
   "cell_type": "code",
   "execution_count": 16,
   "id": "78ddfe2b",
   "metadata": {},
   "outputs": [],
   "source": [
    "x_train, x_test, y_train, y_test = train_test_split(automobile_features,\n",
    "                                                   automobile_target,\n",
    "                                                   test_size=0.2,\n",
    "                                                   random_state=0)"
   ]
  },
  {
   "cell_type": "code",
   "execution_count": 17,
   "id": "0d852991",
   "metadata": {},
   "outputs": [],
   "source": [
    "import torch"
   ]
  },
  {
   "cell_type": "code",
   "execution_count": 18,
   "id": "b26c7eb7",
   "metadata": {},
   "outputs": [],
   "source": [
    "dtype = torch.float"
   ]
  },
  {
   "cell_type": "code",
   "execution_count": 19,
   "id": "41449cae",
   "metadata": {},
   "outputs": [],
   "source": [
    "x_train_tensor = torch.tensor(x_train.values, dtype = dtype)\n",
    "x_test_tensor = torch.tensor(x_test.values, dtype = dtype)\n",
    "\n",
    "y_train_tensor = torch.tensor(y_train.values, dtype = dtype)\n",
    "y_test_tensor = torch.tensor(y_test.values, dtype = dtype)"
   ]
  },
  {
   "cell_type": "code",
   "execution_count": 20,
   "id": "2e73ac15",
   "metadata": {},
   "outputs": [
    {
     "data": {
      "text/plain": [
       "torch.Size([127, 26])"
      ]
     },
     "execution_count": 20,
     "metadata": {},
     "output_type": "execute_result"
    }
   ],
   "source": [
    "x_train_tensor.shape"
   ]
  },
  {
   "cell_type": "code",
   "execution_count": 21,
   "id": "92dd5932",
   "metadata": {},
   "outputs": [
    {
     "data": {
      "text/plain": [
       "torch.Size([127, 1])"
      ]
     },
     "execution_count": 21,
     "metadata": {},
     "output_type": "execute_result"
    }
   ],
   "source": [
    "y_train_tensor.shape"
   ]
  },
  {
   "cell_type": "code",
   "execution_count": 22,
   "id": "ede49a0d",
   "metadata": {},
   "outputs": [],
   "source": [
    "inp = 26\n",
    "out = 1\n",
    "\n",
    "hid = 100\n",
    "loss_fn = torch.nn.MSELoss()\n",
    "learning_rate = 0.0001"
   ]
  },
  {
   "cell_type": "code",
   "execution_count": 23,
   "id": "551cd2b0",
   "metadata": {},
   "outputs": [],
   "source": [
    "model = torch.nn.Sequential(torch.nn.Linear(inp, hid), # Sequential model holding NN layers in a sequence\n",
    "                           torch.nn.Sigmoid(),\n",
    "                           torch.nn.Linear(hid, out))"
   ]
  },
  {
   "cell_type": "code",
   "execution_count": 24,
   "id": "00b7d18b",
   "metadata": {},
   "outputs": [
    {
     "name": "stdout",
     "output_type": "stream",
     "text": [
      "0 168088672.0\n",
      "1000 4279930.5\n",
      "2000 2354738.0\n",
      "3000 1685026.75\n",
      "4000 1393326.0\n",
      "5000 1301251.875\n",
      "6000 1234706.375\n",
      "7000 1181808.0\n",
      "8000 1134140.375\n",
      "9000 1085046.75\n"
     ]
    }
   ],
   "source": [
    "for epoch in range(10000):\n",
    "    y_pred = model(x_train_tensor)\n",
    "    loss = loss_fn(y_pred, y_train_tensor)\n",
    "    \n",
    "    if epoch % 1000 == 0:\n",
    "        print(epoch, loss.item())\n",
    "        \n",
    "    model.zero_grad()\n",
    "    loss.backward()\n",
    "    \n",
    "    with torch.no_grad():\n",
    "        for param in model.parameters():\n",
    "            param-= learning_rate * param.grad"
   ]
  },
  {
   "cell_type": "code",
   "execution_count": 25,
   "id": "81d7ff61",
   "metadata": {},
   "outputs": [
    {
     "data": {
      "text/plain": [
       "horsepower               -0.353881\n",
       "make_audi                 0.000000\n",
       "make_bmw                  0.000000\n",
       "make_chevrolet            0.000000\n",
       "make_dodge                0.000000\n",
       "make_honda                0.000000\n",
       "make_jaguar               0.000000\n",
       "make_mazda                0.000000\n",
       "make_mercedes-benz        0.000000\n",
       "make_mitsubishi           0.000000\n",
       "make_nissan               0.000000\n",
       "make_peugot               0.000000\n",
       "make_plymouth             0.000000\n",
       "make_porsche              0.000000\n",
       "make_saab                 0.000000\n",
       "make_subaru               0.000000\n",
       "make_toyota               0.000000\n",
       "make_volkswagen           1.000000\n",
       "make_volvo                0.000000\n",
       "fuel-type_diesel          0.000000\n",
       "fuel-type_gas             1.000000\n",
       "body-style_convertible    0.000000\n",
       "body-style_hardtop        0.000000\n",
       "body-style_hatchback      0.000000\n",
       "body-style_sedan          1.000000\n",
       "body-style_wagon          0.000000\n",
       "Name: 186, dtype: float64"
      ]
     },
     "execution_count": 25,
     "metadata": {},
     "output_type": "execute_result"
    }
   ],
   "source": [
    "sample = x_test.iloc[23]\n",
    "sample"
   ]
  },
  {
   "cell_type": "code",
   "execution_count": 26,
   "id": "c1f4780d",
   "metadata": {},
   "outputs": [
    {
     "data": {
      "text/plain": [
       "tensor([-0.3539,  0.0000,  0.0000,  0.0000,  0.0000,  0.0000,  0.0000,  0.0000,\n",
       "         0.0000,  0.0000,  0.0000,  0.0000,  0.0000,  0.0000,  0.0000,  0.0000,\n",
       "         0.0000,  1.0000,  0.0000,  0.0000,  1.0000,  0.0000,  0.0000,  0.0000,\n",
       "         1.0000,  0.0000])"
      ]
     },
     "execution_count": 26,
     "metadata": {},
     "output_type": "execute_result"
    }
   ],
   "source": [
    "sample_tensor = torch.tensor(sample.values, dtype = dtype)\n",
    "sample_tensor"
   ]
  },
  {
   "cell_type": "code",
   "execution_count": 27,
   "id": "058be5a2",
   "metadata": {},
   "outputs": [
    {
     "name": "stdout",
     "output_type": "stream",
     "text": [
      "8097\n",
      "8495\n"
     ]
    }
   ],
   "source": [
    "y_pred = model(sample_tensor)\n",
    "print('Predicted price: ', int(y_pred.item()))\n",
    "print('Actual price: ', int(y_test.iloc[23]))"
   ]
  },
  {
   "cell_type": "code",
   "execution_count": 28,
   "id": "feebecec",
   "metadata": {},
   "outputs": [],
   "source": [
    "#Running predictions on entire test dataset\n",
    "y_pred_tensor = model(x_test_tensor)"
   ]
  },
  {
   "cell_type": "code",
   "execution_count": 29,
   "id": "53e74b15",
   "metadata": {},
   "outputs": [],
   "source": [
    "#Detaching the tensor and converting to numpy array\n",
    "y_pred = y_pred_tensor.detach().numpy()"
   ]
  },
  {
   "cell_type": "code",
   "execution_count": 30,
   "id": "761df64e",
   "metadata": {},
   "outputs": [
    {
     "data": {
      "image/png": "[encoded data removed]",
      "text/plain": [
       "<Figure size 432x288 with 1 Axes>"
      ]
     },
     "metadata": {
      "needs_background": "light"
     },
     "output_type": "display_data"
    }
   ],
   "source": [
    "#Visualisation of actual vs predicted prices\n",
    "import matplotlib.pyplot as plt\n",
    "\n",
    "plt.scatter(y_pred, y_test.values)\n",
    "plt.xlabel('Predicted Price')\n",
    "plt.ylabel('Actual Price')\n",
    "plt.title('Actual Prices vs Predicted Prices')\n",
    "plt.show()"
   ]
  },
  {
   "cell_type": "markdown",
   "id": "222982a2",
   "metadata": {},
   "source": [
    "#### Serialise the model"
   ]
  },
  {
   "cell_type": "code",
   "execution_count": 33,
   "id": "2987e6f6",
   "metadata": {},
   "outputs": [],
   "source": [
    "torch.save(model, 'my_model')"
   ]
  },
  {
   "cell_type": "code",
   "execution_count": 34,
   "id": "c2da782e",
   "metadata": {},
   "outputs": [],
   "source": [
    "saved_model = torch.load('my_model') #Loading the saved model using torch.load()"
   ]
  },
  {
   "cell_type": "code",
   "execution_count": 35,
   "id": "6e16c16a",
   "metadata": {},
   "outputs": [],
   "source": [
    "#Performing prediction using the re-loaded model\n",
    "y_pred_tensor = saved_model(x_test_tensor)"
   ]
  },
  {
   "cell_type": "code",
   "execution_count": 36,
   "id": "d9d2645d",
   "metadata": {},
   "outputs": [],
   "source": [
    "y_pred = y_pred_tensor.detach().numpy()"
   ]
  },
  {
   "cell_type": "code",
   "execution_count": 37,
   "id": "3a7cdb45",
   "metadata": {},
   "outputs": [
    {
     "data": {
      "image/png": "[encoded data removed]",
      "text/plain": [
       "<Figure size 1080x432 with 1 Axes>"
      ]
     },
     "metadata": {
      "needs_background": "light"
     },
     "output_type": "display_data"
    }
   ],
   "source": [
    "plt.figure(figsize=(15,6))\n",
    "\n",
    "plt.plot(y_pred, label='Predicted Price')\n",
    "plt.plot(y_test.values, label='Actual Price')\n",
    "\n",
    "plt.legend()\n",
    "plt.show()"
   ]
  }
 ],
 "metadata": {
  "kernelspec": {
   "display_name": "Python 3 (ipykernel)",
   "language": "python",
   "name": "python3"
  },
  "language_info": {
   "codemirror_mode": {
    "name": "ipython",
    "version": 3
   },
   "file_extension": ".py",
   "mimetype": "text/x-python",
   "name": "python",
   "nbconvert_exporter": "python",
   "pygments_lexer": "ipython3",
   "version": "3.9.12"
  }
 },
 "nbformat": 4,
 "nbformat_minor": 5
}
